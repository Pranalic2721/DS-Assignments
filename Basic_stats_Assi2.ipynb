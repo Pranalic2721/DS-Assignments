{
  "nbformat": 4,
  "nbformat_minor": 0,
  "metadata": {
    "colab": {
      "provenance": []
    },
    "kernelspec": {
      "name": "python3",
      "display_name": "Python 3"
    },
    "language_info": {
      "name": "python"
    }
  },
  "cells": [
    {
      "cell_type": "code",
      "execution_count": null,
      "metadata": {
        "id": "hnmQcd7dJmIM"
      },
      "outputs": [],
      "source": [
        "import numpy as np\n",
        "import scipy.stats as st"
      ]
    },
    {
      "cell_type": "code",
      "source": [
        "data = np.array([1.13, 1.55, 1.43, 0.92, 1.25, 1.36, 1.32, 0.85, 1.07, 1.48, 1.20, 1.33, 1.18, 1.22, 1.29], dtype=float)\n",
        "data"
      ],
      "metadata": {
        "colab": {
          "base_uri": "https://localhost:8080/"
        },
        "id": "3K9Iguc8L0oV",
        "outputId": "25b3a756-a263-488b-93ef-2753535b2fb8"
      },
      "execution_count": null,
      "outputs": [
        {
          "output_type": "execute_result",
          "data": {
            "text/plain": [
              "array([1.13, 1.55, 1.43, 0.92, 1.25, 1.36, 1.32, 0.85, 1.07, 1.48, 1.2 ,\n",
              "       1.33, 1.18, 1.22, 1.29])"
            ]
          },
          "metadata": {},
          "execution_count": 61
        }
      ]
    },
    {
      "cell_type": "markdown",
      "source": [
        "Q1]Build 99% Confidence Interval Using Sample Standard Deviation\n"
      ],
      "metadata": {
        "id": "2p3NpCqwbL5B"
      }
    },
    {
      "cell_type": "code",
      "source": [
        "n = len(data)\n",
        "mean = np.mean(data)\n",
        "confidence = 0.99\n",
        "# Calculate the confidence interval using the t-distribution\n",
        "confidence_interval = st.t.interval(\n",
        "    confidence,\n",
        "    df=n-1,\n",
        "    loc=mean,\n",
        "    scale=st.sem(data)\n",
        ")\n",
        "print(\"99% Confidence Interval:\", confidence_interval)\n"
      ],
      "metadata": {
        "colab": {
          "base_uri": "https://localhost:8080/"
        },
        "id": "UoiDiY4nZkyX",
        "outputId": "7a28b817-9e1f-4d49-b2a0-18f312fa4111"
      },
      "execution_count": null,
      "outputs": [
        {
          "output_type": "stream",
          "name": "stdout",
          "text": [
            "99% Confidence Interval: (1.0901973384384906, 1.3871359948948425)\n"
          ]
        }
      ]
    },
    {
      "cell_type": "markdown",
      "source": [
        "Q2]Build 99% Confidence Interval Using Known Population Standard Deviation"
      ],
      "metadata": {
        "id": "rJ9rZxxZbV-5"
      }
    },
    {
      "cell_type": "code",
      "source": [
        "# Known population standard deviation\n",
        "pop_std_dev = 0.2"
      ],
      "metadata": {
        "id": "5jznyax8MEpC"
      },
      "execution_count": null,
      "outputs": []
    },
    {
      "cell_type": "code",
      "source": [
        "mean = np.mean(data)\n",
        "n = len(data)\n",
        "z_critical = stats.norm.ppf(0.995)  # 0.995 for two-tailed 99% confidence\n",
        "margin_of_error = z_critical * (pop_std_dev / np.sqrt(n))"
      ],
      "metadata": {
        "id": "B1V1zwmOMKrc"
      },
      "execution_count": null,
      "outputs": []
    },
    {
      "cell_type": "code",
      "source": [
        "confidence_interval = (mean - margin_of_error, mean + margin_of_error)\n",
        "print(f\"99% Confidence Interval: {confidence_interval}\")"
      ],
      "metadata": {
        "colab": {
          "base_uri": "https://localhost:8080/"
        },
        "id": "92OwY8ldNOW9",
        "outputId": "8cc9f72b-893d-4feb-996e-b254f0f87c8d"
      },
      "execution_count": null,
      "outputs": [
        {
          "output_type": "stream",
          "name": "stdout",
          "text": [
            "99% Confidence Interval: (1.1056514133957607, 1.3716819199375725)\n"
          ]
        }
      ]
    },
    {
      "cell_type": "code",
      "source": [],
      "metadata": {
        "id": "uGgkeFznQwD0"
      },
      "execution_count": null,
      "outputs": []
    }
  ]
}